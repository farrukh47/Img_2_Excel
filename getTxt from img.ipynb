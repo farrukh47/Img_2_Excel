{
 "cells": [
  {
   "cell_type": "code",
   "execution_count": null,
   "metadata": {},
   "outputs": [],
   "source": [
    "import os\n",
    "import re\n",
    "import cv2\n",
    "import numpy as np\n",
    "import pandas as pd\n",
    "from PIL import Image\n",
    "import pytesseract\n",
    "from concurrent.futures import ThreadPoolExecutor\n",
    "\n",
    "#pip install pytesseract pandas pillow openpyxl opencv-python\n",
    "\n",
    "#tesseract ocr file path\n",
    "pytesseract.pytesseract.tesseract_cmd = r'C:\\Program Files\\Tesseract-OCR\\tesseract.exe' "
   ]
  },
  {
   "cell_type": "code",
   "execution_count": null,
   "metadata": {},
   "outputs": [],
   "source": [
    "# Define a function to extract phone numbers using regex\n",
    "def extract_phone_numbers(text):\n",
    "    pattern = r'\\+?\\d{1,3} \\d{3,6} \\d{3,6}'\n",
    "    return re.findall(pattern, text)\n"
   ]
  },
  {
   "cell_type": "code",
   "execution_count": null,
   "metadata": {},
   "outputs": [],
   "source": [
    "# Image preprocessing function\n",
    "def preprocess_image(image_path):\n",
    "    # Read the image using OpenCV\n",
    "    image_cv = cv2.imread(image_path, cv2.IMREAD_COLOR)\n",
    "    gray = cv2.cvtColor(image_cv, cv2.COLOR_BGR2GRAY)\n",
    "    blurred = cv2.GaussianBlur(gray, (5, 5), 0)\n",
    "    binary = cv2.adaptiveThreshold(blurred, 255, cv2.ADAPTIVE_THRESH_GAUSSIAN_C, cv2.THRESH_BINARY_INV, 11, 2)\n",
    "    inverted_binary = cv2.bitwise_not(binary)\n",
    "    return inverted_binary"
   ]
  },
  {
   "cell_type": "code",
   "execution_count": null,
   "metadata": {},
   "outputs": [],
   "source": [
    "# Define function to process each image\n",
    "def process_image(image_path):\n",
    "    preprocessed = preprocess_image(image_path)\n",
    "    text = pytesseract.image_to_string(preprocessed)\n",
    "    numbers = extract_phone_numbers(text)\n",
    "    return os.path.basename(image_path), numbers"
   ]
  },
  {
   "cell_type": "code",
   "execution_count": null,
   "metadata": {},
   "outputs": [],
   "source": [
    "def main():\n",
    "    # List all image files in the screenshots folder (adjust this to your directory)\n",
    "    image_directory = \"screenshots\"\n",
    "    image_files = [os.path.join(image_directory, f) for f in os.listdir(image_directory) if f.endswith(('.png', '.jpg', '.jpeg'))]\n",
    "\n",
    "    # Use multi-threading with 10 workers to process images\n",
    "    results = []\n",
    "    with ThreadPoolExecutor(max_workers=10) as executor:\n",
    "        intermediate_results = list(executor.map(process_image, image_files))\n",
    "    \n",
    "    # Flatten the results so that each number is in a separate row with its filename\n",
    "    for filename, numbers in intermediate_results:\n",
    "        for number in numbers:\n",
    "            results.append([filename, number])\n",
    "\n",
    "    # Save results to Excel\n",
    "    df = pd.DataFrame(results, columns=['Filename', 'Phone Number'])\n",
    "    df.to_excel(\"output.xlsx\", index=False, engine='openpyxl')\n",
    "\n"
   ]
  },
  {
   "cell_type": "code",
   "execution_count": null,
   "metadata": {},
   "outputs": [],
   "source": [
    "if __name__ == \"__main__\":\n",
    "    main()"
   ]
  }
 ],
 "metadata": {
  "kernelspec": {
   "display_name": "Python 3",
   "language": "python",
   "name": "python3"
  },
  "language_info": {
   "codemirror_mode": {
    "name": "ipython",
    "version": 3
   },
   "file_extension": ".py",
   "mimetype": "text/x-python",
   "name": "python",
   "nbconvert_exporter": "python",
   "pygments_lexer": "ipython3",
   "version": "3.11.2"
  },
  "orig_nbformat": 4
 },
 "nbformat": 4,
 "nbformat_minor": 2
}
